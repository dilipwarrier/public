{
 "cells": [
  {
   "cell_type": "markdown",
   "metadata": {},
   "source": [
    "# Calculation of returns for various mortgage options"
   ]
  },
  {
   "cell_type": "markdown",
   "metadata": {},
   "source": [
    "## NPV calculations\n",
    "\n",
    "Assume you have a payment at time $i$ represented by $p_i$. Assume that an investment of money right now can get you a rate $r$ per period. Then, the present value of that payment to you is $\\frac{p_i}{(1+r)^i}$.\n",
    "\n",
    "Let ${\\bf p}$ represent the list of payments $p_i$ over time.\n",
    "\n",
    "Then, the net present value of all such payments is\n",
    "\\begin{equation} \n",
    "{\\rm NPV}({\\bf p}, i, r) = \\sum_{i=0}^{n-1} \\frac{p_i}{(1+r)^i}\n",
    "\\end{equation}"
   ]
  },
  {
   "cell_type": "markdown",
   "metadata": {},
   "source": [
    "### Example\n",
    "\n",
    "Assume you have a mortgage loan of $300,000 at 2.75%. That results in a monthly payment as follows."
   ]
  },
  {
   "cell_type": "code",
   "execution_count": 1,
   "metadata": {},
   "outputs": [
    {
     "name": "stdout",
     "output_type": "stream",
     "text": [
      "Monthly payment is $1224.72\n"
     ]
    }
   ],
   "source": [
    "import numpy_financial\n",
    "\n",
    "mortgage_rate_per_month = 2.75/(12*100)\n",
    "num_periods = 30*12\n",
    "present_value = 300000\n",
    "\n",
    "val = numpy_financial.pmt(mortgage_rate_per_month, num_periods, present_value)\n",
    "monthly_payment = (-1)*val.item()\n",
    "\n",
    "print(\"Monthly payment is $%.2f\" % (monthly_payment))"
   ]
  },
  {
   "cell_type": "markdown",
   "metadata": {},
   "source": [
    "### Relation between mortgage payments and NPV"
   ]
  },
  {
   "cell_type": "markdown",
   "metadata": {},
   "source": [
    "If an alternative investment pays only the mortgage rate that you get from your bank, then the NPV of your mortgage payments along with the money you get at the beginning is 0. This is shown by the code below."
   ]
  },
  {
   "cell_type": "code",
   "execution_count": 2,
   "metadata": {},
   "outputs": [
    {
     "data": {
      "text/plain": [
       "0"
      ]
     },
     "execution_count": 2,
     "metadata": {},
     "output_type": "execute_result"
    }
   ],
   "source": [
    "payments_list = [present_value]\n",
    "payments_list.extend([(-1)*monthly_payment]*num_periods)\n",
    "\n",
    "round(numpy_financial.npv(mortgage_rate_per_month, payments_list)) # This is a number close to 0"
   ]
  },
  {
   "cell_type": "markdown",
   "metadata": {},
   "source": [
    "A positive NPV is desirable. It means that the payments and returns are a reasonable investment. For instance, if the stock market yields a higher rate than the mortgage rate, then the NPV is greater than 0. This is because you can take the mortgage loan, invest it in the stock market, make the mortgage payments from the investment income and still come out positive."
   ]
  },
  {
   "cell_type": "code",
   "execution_count": 3,
   "metadata": {},
   "outputs": [
    {
     "name": "stdout",
     "output_type": "stream",
     "text": [
      "NPV for 360 payments with a 6% stock market return is $95726.38\n"
     ]
    }
   ],
   "source": [
    "stock_market_rate_per_month = 6/(12*100)\n",
    "npv = numpy_financial.npv(stock_market_rate_per_month, payments_list)\n",
    "\n",
    "print(\"NPV for %d payments with a %d%% stock market return is $%.2f\" % (num_periods, stock_market_rate_per_month*12*100, npv))"
   ]
  },
  {
   "cell_type": "markdown",
   "metadata": {},
   "source": [
    "In the presence of a strong stock market option, there is a higher NPV in stretching out the payments."
   ]
  },
  {
   "cell_type": "code",
   "execution_count": 4,
   "metadata": {},
   "outputs": [
    {
     "name": "stdout",
     "output_type": "stream",
     "text": [
      "NPV for 420 payments with a 6% stock market return is $104783.61\n"
     ]
    }
   ],
   "source": [
    "num_periods_long = 35*12\n",
    "\n",
    "val = numpy_financial.pmt(mortgage_rate_per_month, num_periods_long, present_value)\n",
    "monthly_payment_long = (-1)*val.item()\n",
    "\n",
    "payments_list_long = [present_value]\n",
    "payments_list_long.extend([(-1)*monthly_payment_long]*num_periods_long)\n",
    "npv = numpy_financial.npv(stock_market_rate_per_month, payments_list_long)\n",
    "\n",
    "print(\"NPV for %d payments with a %d%% stock market return is $%.2f\" % (num_periods_long, stock_market_rate_per_month*12*100, npv))"
   ]
  },
  {
   "cell_type": "markdown",
   "metadata": {},
   "source": [
    "## Partial periods"
   ]
  },
  {
   "cell_type": "markdown",
   "metadata": {},
   "source": [
    "This may seem obvious but, if you look at the paid-off principal at any point in the mortgage period, the payment comes out the same if you were to get a new loan for the reduced principal. The code below illustrates that."
   ]
  },
  {
   "cell_type": "code",
   "execution_count": 5,
   "metadata": {},
   "outputs": [
    {
     "name": "stdout",
     "output_type": "stream",
     "text": [
      "Principal remaining for partial period loan is $246370.53\n",
      "Full period payment is $1224.72 while half period payment is $1224.72\n"
     ]
    }
   ],
   "source": [
    "full_pmts = 30*12\n",
    "first_half_pmts = 90\n",
    "\n",
    "val = numpy_financial.pmt(mortgage_rate_per_month, full_pmts, present_value)\n",
    "full_period_monthly_pmt = (-1)*val.item()\n",
    "\n",
    "val_list = numpy_financial.ppmt(mortgage_rate_per_month, [i + 1 for i in range(first_half_pmts)], full_pmts, present_value)\n",
    "ppmt = [(-1)*val.item() for val in val_list]\n",
    "\n",
    "new_present_value = present_value - sum(ppmt) # Amount is partially paid off\n",
    "val = numpy_financial.pmt(mortgage_rate_per_month, full_pmts - first_half_pmts, new_present_value)\n",
    "half_period_monthly_pmt = (-1)*val.item()\n",
    "\n",
    "print(\"Principal remaining for partial period loan is $%.2f\" % (new_present_value))\n",
    "print(\"Full period payment is $%.2f while half period payment is $%.2f\" % (full_period_monthly_pmt, half_period_monthly_pmt))"
   ]
  },
  {
   "cell_type": "markdown",
   "metadata": {},
   "source": [
    "## Evaluation of scenarios"
   ]
  },
  {
   "cell_type": "markdown",
   "metadata": {},
   "source": [
    "Let's say that, in scenario 1, you are offered a high mortgage rate with no initial payment. In scenario 2, you are offered a lower rate but with a one-time fee associated. Which is better?"
   ]
  },
  {
   "cell_type": "code",
   "execution_count": 6,
   "metadata": {},
   "outputs": [
    {
     "name": "stdout",
     "output_type": "stream",
     "text": [
      "Monthly payments are:\n",
      "S1: $1481.54\n",
      "S2: $1143.08\n",
      "\n",
      "NPV for S1 at 6% stock market rate is $60766.05\n",
      "NPV for S2 at 6% stock market rate is $83344.62\n",
      "\n",
      "S2 is better by an NPV of $22578.57\n"
     ]
    }
   ],
   "source": [
    "present_value = 280000\n",
    "\n",
    "s1_rate_per_month = 3.375/(12*100)\n",
    "s1_num_periods = 270\n",
    "\n",
    "s1_monthly_payment = numpy_financial.pmt(s1_rate_per_month, s1_num_periods, present_value).item()*(-1)\n",
    "\n",
    "s1_payments_list = [present_value]\n",
    "s1_payments_list.extend([(-1)*s1_monthly_payment]*s1_num_periods)\n",
    "s1_npv = numpy_financial.npv(stock_market_rate_per_month, s1_payments_list)\n",
    "\n",
    "s2_rate_per_month = 2.75/(12*100) # Lower interest rate than S1...\n",
    "s2_num_periods = 360\n",
    "s2_one_time_fee = 6000 # ... but there is a one-time payment that does not exist in S1\n",
    "\n",
    "s2_monthly_payment = numpy_financial.pmt(s2_rate_per_month, s2_num_periods, present_value).item()*(-1)\n",
    "\n",
    "s2_payments_list = [present_value - s2_one_time_fee]\n",
    "s2_payments_list.extend([(-1)*s2_monthly_payment]*s2_num_periods)\n",
    "s2_npv = numpy_financial.npv(stock_market_rate_per_month, s2_payments_list)\n",
    "\n",
    "print(\"Monthly payments are:\\nS1: $%.2f\\nS2: $%.2f\\n\" % (s1_monthly_payment, s2_monthly_payment))\n",
    "print(\"NPV for S1 at %d%% stock market rate is $%.2f\" % (stock_market_rate_per_month*12*100, s1_npv))\n",
    "print(\"NPV for S2 at %d%% stock market rate is $%.2f\\n\" % (stock_market_rate_per_month*12*100, s2_npv))\n",
    "\n",
    "if (s1_npv >= s2_npv):\n",
    "    print (\"S1 is better by an NPV of $%.2f\" % (s1_npv - s2_npv))\n",
    "else:\n",
    "    print (\"S2 is better by an NPV of $%.2f\" % (s2_npv - s1_npv))\n"
   ]
  }
 ],
 "metadata": {
  "kernelspec": {
   "display_name": "Python 3",
   "language": "python",
   "name": "python3"
  },
  "language_info": {
   "codemirror_mode": {
    "name": "ipython",
    "version": 3
   },
   "file_extension": ".py",
   "mimetype": "text/x-python",
   "name": "python",
   "nbconvert_exporter": "python",
   "pygments_lexer": "ipython3",
   "version": "3.9.2"
  }
 },
 "nbformat": 4,
 "nbformat_minor": 4
}
