{
 "cells": [
  {
   "cell_type": "markdown",
   "metadata": {},
   "source": [
    "# Calculation of probabilities in elections"
   ]
  },
  {
   "cell_type": "markdown",
   "metadata": {},
   "source": [
    "In a 2-way election determined by popular vote with winner-take-all, assume there is a total population of $(2N + 1)$. For one person's vote to decide the outcome, the population of $2N$ has to be tied equally. Let $p$ be the probability that an average person in the population will vote for candidate 0. Then, the probability that the population of $2N$ is tied equally is as follows.\n",
    "\\begin{equation}\n",
    "F(p, N) = \\left( \\begin{array}{c} 2N \\\\ N \\end{array} \\right) p^N(1-p)^N\n",
    "\\end{equation}"
   ]
  },
  {
   "cell_type": "markdown",
   "metadata": {},
   "source": [
    "The scipy binom object lets you calculate this probability."
   ]
  },
  {
   "cell_type": "code",
   "execution_count": 16,
   "metadata": {},
   "outputs": [
    {
     "name": "stdout",
     "output_type": "stream",
     "text": [
      "Probability of a tie is 0.030%\n"
     ]
    }
   ],
   "source": [
    "p = 0.5\n",
    "N = 3500000 # 2*N = 7,000,000 = approximate population of MA\n",
    "from scipy.stats import binom\n",
    "print(\"Probability of a tie is %.3f%%\" % (binom(2*N, p).pmf(N)*100))"
   ]
  },
  {
   "cell_type": "markdown",
   "metadata": {},
   "source": [
    "What is the probability that the vote will be within a margin of 2k around the mean?"
   ]
  },
  {
   "cell_type": "code",
   "execution_count": 17,
   "metadata": {},
   "outputs": [
    {
     "name": "stdout",
     "output_type": "stream",
     "text": [
      "Probability of vote being within a margin of 100 is 3.0%\n"
     ]
    }
   ],
   "source": [
    "k=50\n",
    "print(\"Probability of vote being within a margin of %d is %.1f%%\" % \n",
    "      (2*k, 100*(binom(2*N, p).cdf(N+k) - binom(2*N, p).cdf(N-k))))"
   ]
  },
  {
   "cell_type": "markdown",
   "metadata": {},
   "source": [
    "What is the probability when it is not an equal probability event?"
   ]
  },
  {
   "cell_type": "code",
   "execution_count": 24,
   "metadata": {},
   "outputs": [
    {
     "name": "stdout",
     "output_type": "stream",
     "text": [
      "Probability of a tie is 0.00e+00%\n",
      "Probability of vote being within a margin of 100 is 0.00e+00%\n"
     ]
    }
   ],
   "source": [
    "p = 0.6 # Joe Biden beat Trump 66% to 33% in 2020\n",
    "N = 3500000\n",
    "print(\"Probability of a tie is %.2e%%\" % (binom(2*N, p).pmf(N)*100))\n",
    "print(\"Probability of vote being within a margin of %d is %.2e%%\" % \n",
    "      (2*k, 100*(binom(2*N, p).cdf(N+k) - binom(2*N, p).cdf(N-k))))"
   ]
  },
  {
   "cell_type": "markdown",
   "metadata": {},
   "source": [
    "## Alternative method of calculation"
   ]
  },
  {
   "cell_type": "markdown",
   "metadata": {},
   "source": [
    "We can express $F(p, N)$ in terms of $F(p, N-1)$ as follows.\n",
    "\\begin{eqnarray}\n",
    "F(p, N) & = & \\left( \\begin{array}{c} 2N \\\\ N \\end{array} \\right) p^{N}(1-p)^{N} \\\\\n",
    "& = & \\frac{(2N)(2N - 1)}{(N)^2} p(1-p) F(p, N-1)  \\\\\n",
    "& = & \\frac{2N - 1}{N} \\times 2p(1-p) \\times F(p, N-1) \\\\\n",
    "\\end{eqnarray}\n",
    "\n",
    "Further. \n",
    "\\begin{equation}\n",
    "F(p, 0) = 1\n",
    "\\end{equation}"
   ]
  },
  {
   "cell_type": "code",
   "execution_count": 4,
   "metadata": {},
   "outputs": [
    {
     "name": "stdout",
     "output_type": "stream",
     "text": [
      "Probability is 0.018%\n"
     ]
    }
   ],
   "source": [
    "prob = 1\n",
    "for i in range(1, N+1):\n",
    "    prob = (2*i - 1)/(i)*2*p*(1-p)*prob\n",
    "print(\"Probability is %.3f%%\" % (prob*100))"
   ]
  }
 ],
 "metadata": {
  "kernelspec": {
   "display_name": "Python 3",
   "language": "python",
   "name": "python3"
  },
  "language_info": {
   "codemirror_mode": {
    "name": "ipython",
    "version": 3
   },
   "file_extension": ".py",
   "mimetype": "text/x-python",
   "name": "python",
   "nbconvert_exporter": "python",
   "pygments_lexer": "ipython3",
   "version": "3.6.5"
  }
 },
 "nbformat": 4,
 "nbformat_minor": 4
}
