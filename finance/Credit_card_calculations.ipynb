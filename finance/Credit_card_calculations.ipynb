{
 "cells": [
  {
   "cell_type": "markdown",
   "metadata": {},
   "source": [
    "# Calculation of returns for various credit card options"
   ]
  },
  {
   "cell_type": "markdown",
   "metadata": {},
   "source": [
    "## Option 1 (cash back at the end of the year)\n",
    "\n",
    "In this option, consider a credit card that accumulates rewards from your spending over the course of the year and pays you back a fraction of that at the end of the year. The Costco Citi card works this way.\n",
    "\n",
    "Assume that you spend $\\$1$ per month. Assume that the card pays you a fraction $p$ of the cash back at the end of the year.\n",
    "\n",
    "Thus, at the end of the year, you get back $\\$12 \\times p$."
   ]
  },
  {
   "cell_type": "markdown",
   "metadata": {},
   "source": [
    "## Option 2 (cash back throughout the year)\n",
    "\n",
    "In this option, consider a credit card that accumulates rewards from your spending over some chunk of time within the year and pays you back a fraction of that at the end of that chunk of time. The BofA rewards card works this way. \n",
    "\n",
    "Assume that the chunk of time is $m$ months. $m$ need not be $1$; let's assume though that it's a divisor of $12$.\n",
    "\n",
    "Again, assume that you spend $\\$1$ per month or $\\$m$ every $m$ months and that the card pays you the same fraction $p$ of the cash back.\n",
    "\n",
    "The amount you receive can now be invested and receive an annual return of say $s\\%$.\n",
    "\n",
    "The total amount you have at the end of the year is given by\n",
    "\\begin{equation} \n",
    "\\$m \\times p \\times \\sum_{k=1}^{n} (1 + \\frac{s}{12})^{(12 - k \\times m)}\n",
    "\\end{equation}\n",
    "where $n = 12/m$.\n",
    "\n",
    "Using $n \\times m = 12$ and $l = n - k$, we get\n",
    "\\begin{equation} \n",
    "\\$m \\times p \\times \\sum_{l=0}^{n-1} [ (1 + \\frac{s}{12})^{m} ]^{l}\n",
    "\\end{equation}\n",
    "\n",
    "Evaluating the sum of the geometric series, finally\n",
    "\\begin{equation} \n",
    "\\$m \\times p \\times \\frac{[ (1 + \\frac{s}{12})^{m} ]^{n} - 1}{(1 + \\frac{s}{12})^{m} - 1}\n",
    "\\end{equation}\n",
    "or, simply,\n",
    "\\begin{equation} \n",
    "\\$m \\times p \\times \\frac{( 1 + \\frac{s}{12} )^{12} - 1}{(1 + \\frac{s}{12})^{m} - 1}\n",
    "\\end{equation}\n",
    "\n",
    "We can verify that Option 1 is a special case of Option 2 where $m=12$.\n",
    "At the other extreme, if $m=1$, the amount simplifies to\n",
    "\\begin{equation} \n",
    "\\frac{\\$12 \\times p}{s} \\times [( 1 + \\frac{s}{12} )^{12} - 1]\n",
    "\\end{equation}\n",
    "\n",
    "Let's take some practical numbers."
   ]
  },
  {
   "cell_type": "code",
   "execution_count": 10,
   "metadata": {},
   "outputs": [],
   "source": [
    "def payout(market_rate, chunk):\n",
    "    num = float(chunk*((1+market_rate/12)**12-1))\n",
    "    den = float((1+market_rate/12)**chunk-1)\n",
    "    return num/den"
   ]
  },
  {
   "cell_type": "code",
   "execution_count": 11,
   "metadata": {},
   "outputs": [
    {
     "name": "stdout",
     "output_type": "stream",
     "text": [
      "End of year gain for payout after m months:\n",
      "m=1: 0.370\n",
      "m=2: 0.369\n",
      "m=3: 0.368\n",
      "m=4: 0.367\n",
      "m=6: 0.365\n",
      "m=12: 0.360\n"
     ]
    }
   ],
   "source": [
    "p = 0.03\n",
    "s = 0.06\n",
    "print(\"End of year gain for payout after m months:\")\n",
    "for m in range(1, 13):\n",
    "    if int(12/m) == 12/m:\n",
    "        print(\"m=%d: %0.3f\" % (m, p*payout(s, m)))"
   ]
  },
  {
   "cell_type": "code",
   "execution_count": 12,
   "metadata": {},
   "outputs": [
    {
     "name": "stdout",
     "output_type": "stream",
     "text": [
      "Required payout fraction = 0.039\n"
     ]
    }
   ],
   "source": [
    "# Credit card with 12-month and 4% payout\n",
    "m1=12\n",
    "p1=0.04\n",
    "\n",
    "# Credit card with 1-month payout\n",
    "m2=1\n",
    "\n",
    "# Stock market rate of 6% annual\n",
    "s=0.06\n",
    "\n",
    "print(\"Required payout fraction = %0.3f\" % (p1*payout(s,m1)/payout(s,m2)))"
   ]
  },
  {
   "cell_type": "markdown",
   "metadata": {},
   "source": [
    "In summary, you can't reduce the payout rate much just because you give out 3-month payouts vs 12-month payouts."
   ]
  },
  {
   "cell_type": "markdown",
   "metadata": {},
   "source": [
    "## Upper bound on payout\n",
    "\n",
    "Consider\n",
    "\\begin{align}\n",
    "f(m) &= \\frac{(1 + a)^{m} - 1}{a \\times m} \\\\\n",
    "     &= \\frac{\\sum_{i=0}^{m-1} a^m}{\\sum_{i=0}^{m-1} 1^m}\n",
    "\\end{align}\n",
    "where $a>0$.\n",
    "As m increases, larger terms are added in the numerator compared to the denominator. Hence, $f(m)$ is a monotonic increasing function of $m$.\n",
    "\n",
    "As a result, the payout monotonically decreases as $m$ increases. Thus, the value for $m=1$ is an upper bound on the payout."
   ]
  }
 ],
 "metadata": {
  "kernelspec": {
   "display_name": "Python 3",
   "language": "python",
   "name": "python3"
  },
  "language_info": {
   "codemirror_mode": {
    "name": "ipython",
    "version": 3
   },
   "file_extension": ".py",
   "mimetype": "text/x-python",
   "name": "python",
   "nbconvert_exporter": "python",
   "pygments_lexer": "ipython3",
   "version": "3.6.5"
  }
 },
 "nbformat": 4,
 "nbformat_minor": 4
}
